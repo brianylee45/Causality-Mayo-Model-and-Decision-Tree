{
 "cells": [
  {
   "cell_type": "code",
   "execution_count": 1,
   "metadata": {},
   "outputs": [],
   "source": [
    "import pandas as pd\n",
    "from matplotlib import pyplot as plt\n",
    "import seaborn as sns\n",
    "from matplotlib.pyplot import figure"
   ]
  },
  {
   "cell_type": "code",
   "execution_count": 3,
   "metadata": {},
   "outputs": [],
   "source": [
    "#load the dataset\n",
    "df = pd.read_csv(r\"C:\\Users\\brian\\Desktop\\Python\\Mayo Model\\Data_outcome_deidentified.csv\", low_memory=False)\n",
    "#load the test results\n",
    "test_data = pd.read_csv(r\"C:\\Users\\brian\\Desktop\\Python\\Mayo Model\\test_results.csv\", low_memory=False)\n",
    "#drop unwanted columns\n",
    "df.drop(['POST','PRE','causeofdeath','primcauseofdeath','death.info','numdisvessels','maxlesionlength', 'wposttimi', 'numbms','numdes', 'numstents', 'maxdevdiameter', 'maxdevlength','otherventsupport\\nYes:1 \\nNo:0'],axis=1,inplace=True)\n",
    "#list of target classes\n",
    "effect = ['Inhospital mortality\\nYes:1\\nNo:0','Mortality 6 months\\nYes:1\\nNo:0', 'Mortality 1 yr\\nYes:1\\nNo:0','Mortality 2 yr\\nYes:1\\nNo:0', 'Mortality 5yr\\nYes:1\\nNo:0','Time from PCI to Stroke_6mo', 'Time from PCI to Stroke_1yr','Time from PCI to Stroke_2yr', 'Time from PCI to Stroke_5yr']\n",
    "features = df.drop(effect, axis=1)\n"
   ]
  },
  {
   "cell_type": "code",
   "execution_count": 18,
   "metadata": {},
   "outputs": [
    {
     "data": {
      "text/plain": [
       "<seaborn.axisgrid.JointGrid at 0x20d60598c70>"
      ]
     },
     "execution_count": 18,
     "metadata": {},
     "output_type": "execute_result"
    },
    {
     "data": {
      "image/png": "[encoded data removed]",
      "text/plain": [
       "<Figure size 432x432 with 3 Axes>"
      ]
     },
     "metadata": {
      "needs_background": "light"
     },
     "output_type": "display_data"
    }
   ],
   "source": [
    "#testing out joint plot\n",
    "sns.jointplot(data=test_data['Inhospital mortality\\nYes:1\\nNo:0'], x=df['gender\\nMale:1\\nFemale:0'], y=df['cardioshock\\nYes:1 \\nNo:0'])"
   ]
  },
  {
   "cell_type": "code",
   "execution_count": 7,
   "metadata": {},
   "outputs": [
    {
     "name": "stderr",
     "output_type": "stream",
     "text": [
      "C:\\Users\\brian\\AppData\\Local\\Temp\\ipykernel_21252\\2770773811.py:4: RuntimeWarning: More than 20 figures have been opened. Figures created through the pyplot interface (`matplotlib.pyplot.figure`) are retained until explicitly closed and may consume too much memory. (To control this warning, see the rcParam `figure.max_open_warning`).\n",
      "  figure(figsize=(8, 6), dpi=100)\n"
     ]
    }
   ],
   "source": [
    "#used to create the plots I sent last week\n",
    "for i in features:\n",
    "    for j in features:\n",
    "        if i != j:\n",
    "            figure(figsize=(8, 6), dpi=100)\n",
    "            sns.regplot(x=df[i], y=df[j])\n",
    "            name = '' + i.replace(':','').replace('\\n','').replace('>','').replace('=','').replace('<','')  + \" AND \" + j.replace(':','').replace('\\n','').replace('>','').replace('=','').replace('<','') \n",
    "            plt.savefig('{0}.jpg'.format(name), bbox_inches='tight')\n",
    "print(\"done\")"
   ]
  }
 ],
 "metadata": {
  "kernelspec": {
   "display_name": "Python 3.9.13 64-bit (microsoft store)",
   "language": "python",
   "name": "python3"
  },
  "language_info": {
   "codemirror_mode": {
    "name": "ipython",
    "version": 3
   },
   "file_extension": ".py",
   "mimetype": "text/x-python",
   "name": "python",
   "nbconvert_exporter": "python",
   "pygments_lexer": "ipython3",
   "version": "3.9.13"
  },
  "orig_nbformat": 4,
  "vscode": {
   "interpreter": {
    "hash": "56f97a71b89e05d6ccf73f1f0e2d9d243a3b4ed7741d25bc67a23080ab6402df"
   }
  }
 },
 "nbformat": 4,
 "nbformat_minor": 2
}
